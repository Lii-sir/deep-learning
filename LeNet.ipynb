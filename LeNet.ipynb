{
 "cells": [
  {
   "cell_type": "code",
   "execution_count": 9,
   "id": "3625bf3e-50af-44dc-80c7-fc0fe452b8c7",
   "metadata": {},
   "outputs": [],
   "source": [
    "#torchinfo用于查看模型结构\n",
    "import torch\n",
    "import torch.nn as nn\n",
    "# !pip install _____\n",
    "from torchinfo import summary"
   ]
  },
  {
   "cell_type": "code",
   "execution_count": 13,
   "id": "cab36739-fb6f-4db1-8e44-6a864a0d145a",
   "metadata": {},
   "outputs": [],
   "source": [
    "#模型定义\n",
    "class LeNet(nn.Module):\n",
    "    def __init__(self, num_classes=10):\n",
    "        super(LeNet, self).__init__()\n",
    "        #卷积层1:输入一个通道 输出六个通道 卷积核5*5\n",
    "        self.conv1=nn.Conv2d(in_channels=1, out_channels=6, kernel_size=5)\n",
    "        #卷积层2:输入6个通道 输出16个通道 卷积核5*5\n",
    "        self.conv2=nn.Conv2d(in_channels=6, out_channels=16, kernel_size=5)\n",
    "        #全连接层1:输入16*4*4个节点 输出120个节点\n",
    "        self.fc1=nn.Linear(in_features=16*4*4, out_features=120)\n",
    "        #全连接层2\n",
    "        self.fc2=nn.Linear(in_features=120,out_features=84)\n",
    "        #全连接层3\n",
    "        self.fc3=nn.Linear(in_features=84,out_features=num_classes)\n",
    "\n",
    "    def forward(self,x):\n",
    "        #卷积层 池化\n",
    "        x=torch.relu(self.conv1(x))\n",
    "        x=nn.functional.max_pool2d(x,kernel_size=2) #最大池化\n",
    "        x=torch.relu(self.conv2(x))\n",
    "        x=nn.functional.max_pool2d(x,kernel_size=2)\n",
    "        #全连接层\n",
    "        #将多维张量展开为一维\n",
    "        x=x.view(-1,16*4*4)\n",
    "        x=torch.relu(self.fc1(x))\n",
    "        x=torch.relu(self.fc2(x))\n",
    "        x=self.fc3(x)\n",
    "        return x\n",
    "\n"
   ]
  },
  {
   "cell_type": "code",
   "execution_count": 17,
   "id": "67bdaa3c-3298-4b25-9336-c5095f83cec2",
   "metadata": {},
   "outputs": [
    {
     "data": {
      "text/plain": [
       "==========================================================================================\n",
       "Layer (type:depth-idx)                   Output Shape              Param #\n",
       "==========================================================================================\n",
       "LeNet                                    [1, 10]                   --\n",
       "├─Conv2d: 1-1                            [1, 6, 24, 24]            156\n",
       "├─Conv2d: 1-2                            [1, 16, 8, 8]             2,416\n",
       "├─Linear: 1-3                            [1, 120]                  30,840\n",
       "├─Linear: 1-4                            [1, 84]                   10,164\n",
       "├─Linear: 1-5                            [1, 10]                   850\n",
       "==========================================================================================\n",
       "Total params: 44,426\n",
       "Trainable params: 44,426\n",
       "Non-trainable params: 0\n",
       "Total mult-adds (Units.MEGABYTES): 0.29\n",
       "==========================================================================================\n",
       "Input size (MB): 0.00\n",
       "Forward/backward pass size (MB): 0.04\n",
       "Params size (MB): 0.18\n",
       "Estimated Total Size (MB): 0.22\n",
       "=========================================================================================="
      ]
     },
     "execution_count": 17,
     "metadata": {},
     "output_type": "execute_result"
    }
   ],
   "source": [
    "#查看模型结构\n",
    "summary(LeNet(),input_size=(1,1,28,28))"
   ]
  },
  {
   "cell_type": "code",
   "execution_count": 29,
   "id": "c35480de-ee02-4ff2-bd8d-329dc62e4834",
   "metadata": {},
   "outputs": [],
   "source": [
    "#模型训练\n",
    "import torch\n",
    "import torch.nn as nn\n",
    "import torch.optim as optim\n",
    "from torch.utils.data import DataLoader\n",
    "from torchvision import datasets,transforms\n",
    "#!pip install tqdm\n",
    "from tqdm import * #用于显示进度条并评估任务时间开销\n",
    "import numpy as np\n",
    "import sys"
   ]
  },
  {
   "cell_type": "code",
   "execution_count": 43,
   "id": "4d117930-ad6b-4112-a8b8-bd4ef7b38860",
   "metadata": {},
   "outputs": [
    {
     "name": "stdout",
     "output_type": "stream",
     "text": [
      "Epoch:0 Loss:2.732564497715498 ACC:0.2633                                                                              \n",
      "Epoch:2 Loss:2.6300298093136343 ACC:0.691                                                                              \n",
      "Epoch:4 Loss:1.9097356563455026 ACC:0.9047                                                                             \n",
      "Epoch:6 Loss:1.7178314065790528 ACC:0.9424                                                                             \n",
      "Epoch:8 Loss:1.5847731913848244 ACC:0.9417                                                                             \n",
      "100%|██████████████████████████████████████████████████████████████████████████████████| 10/10 [01:32<00:00,  9.25s/it]\n"
     ]
    }
   ],
   "source": [
    "torch.manual_seed(0)\n",
    "\n",
    "model =LeNet() #模型\n",
    "optimizer=optim.SGD(model.parameters(), lr=0.02) #优化器\n",
    "criterion=nn.CrossEntropyLoss() #损失函数\n",
    "\n",
    "#设置数据变换和数据加载器\n",
    "#transform = transforms.Compose([\n",
    "#    transforms.ToTensor(), #将数据转换为张量\n",
    "#  ])\n",
    "\n",
    "#加载数据    \n",
    "train_dataset = datasets.MNIST(root='data',train=True,transform=transforms.ToTensor(),download=True)\n",
    "test_dataset = datasets.MNIST(root='data',train=False,transform=transforms.ToTensor(),download=True)\n",
    "#root是存放数据位置；transform代表数据处理方式使用Totensor表示直接转换为张量（高维数组）；doenload设置为True表示root里有数据就用没有就下载到root\n",
    "#实例化数据加载器\n",
    "train_loader=DataLoader(train_dataset, batch_size=256,shuffle=True)\n",
    "test_loader=DataLoader(test_dataset, batch_size=256,shuffle=False)\n",
    "\n",
    "#设置epoch数并开始训练\n",
    "num_epochs=10\n",
    "loss_history=[]\n",
    "acc_history=[]\n",
    "\n",
    "\n",
    "#tqdm()用于显示进度条并评估任务时间开销\n",
    "for epoch in tqdm(range(num_epochs), file=sys.stdout):\n",
    "    total_loss=0\n",
    "    total_correct=0\n",
    "    \n",
    "    #训练\n",
    "    model.train()\n",
    "    for inputs, labels in train_loader:\n",
    "        optimizer.zero_grad()\n",
    "        outputs=model(inputs)\n",
    "        loss=criterion(outputs,labels)\n",
    "        loss.backward()\n",
    "        optimizer.step()\n",
    "        \n",
    "        total_loss+=loss.item()\n",
    "\n",
    "    #评估\n",
    "    model.eval()\n",
    "    with torch.no_grad():\n",
    "        for inputs,labels in test_loader:\n",
    "            outputs=model(inputs)\n",
    "            total_correct+=(outputs.argmax(1)==labels).sum().item() #这里注意加一个argmax\n",
    "            \n",
    "    #记录训练损失和测试acc\n",
    "    loss_history.append(np.log10(total_loss))\n",
    "    acc_history.append(total_correct/len(test_dataset))\n",
    "\n",
    "    #打印中间值\n",
    "    if epoch%2==0:\n",
    "        tqdm.write(f'Epoch:{epoch} Loss:{loss_history[-1]} ACC:{acc_history[-1]}')\n",
    "\n",
    "\n",
    "\n",
    "\n"
   ]
  },
  {
   "cell_type": "code",
   "execution_count": 44,
   "id": "7fa29270-ed55-440d-acf7-21ed314e2811",
   "metadata": {},
   "outputs": [
    {
     "name": "stdout",
     "output_type": "stream",
     "text": [
      "0.9626\n"
     ]
    }
   ],
   "source": [
    "print(acc_history[-1])"
   ]
  },
  {
   "cell_type": "code",
   "execution_count": 45,
   "id": "13b5db0d-bc07-47a8-bc9c-cde56fe172ec",
   "metadata": {},
   "outputs": [
    {
     "data": {
      "image/png": "[encoded data removed]",
      "text/plain": [
       "<Figure size 640x480 with 1 Axes>"
      ]
     },
     "metadata": {},
     "output_type": "display_data"
    }
   ],
   "source": [
    "#绘制出损失和正确率图\n",
    "import matplotlib.pyplot as plt\n",
    "plt.plot(loss_history,label='loss')\n",
    "plt.plot(acc_history,label='acc')\n",
    "plt.legend()\n",
    "plt.show()"
   ]
  },
  {
   "cell_type": "code",
   "execution_count": null,
   "id": "5658a266-ae5c-4467-8f8d-257ddf5f9c43",
   "metadata": {},
   "outputs": [],
   "source": []
  }
 ],
 "metadata": {
  "kernelspec": {
   "display_name": "Python 3 (ipykernel)",
   "language": "python",
   "name": "python3"
  },
  "language_info": {
   "codemirror_mode": {
    "name": "ipython",
    "version": 3
   },
   "file_extension": ".py",
   "mimetype": "text/x-python",
   "name": "python",
   "nbconvert_exporter": "python",
   "pygments_lexer": "ipython3",
   "version": "3.12.3"
  }
 },
 "nbformat": 4,
 "nbformat_minor": 5
}
