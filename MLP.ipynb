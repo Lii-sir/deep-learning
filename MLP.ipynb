{
 "cells": [
  {
   "cell_type": "code",
   "execution_count": 1,
   "id": "7de427b0-33cc-41d7-8970-0c31faf6edfe",
   "metadata": {},
   "outputs": [],
   "source": [
    "#导入包\n",
    "import torch\n",
    "from torchvision import datasets,transforms\n",
    "import torch.nn as nn\n",
    "import torch.optim as optim"
   ]
  },
  {
   "cell_type": "code",
   "execution_count": 2,
   "id": "6f3a9d20-60e0-4fd9-8e8a-3c64ade50033",
   "metadata": {},
   "outputs": [
    {
     "data": {
      "text/plain": [
       "10000"
      ]
     },
     "execution_count": 2,
     "metadata": {},
     "output_type": "execute_result"
    }
   ],
   "source": [
    "#加载数据集\n",
    "train_data = datasets.MNIST(root='data',train=True,transform=transforms.ToTensor(),download=True)\n",
    "test_data = datasets.MNIST(root='data',train=False,transform=transforms.ToTensor(),download=True)\n",
    "#root是存放数据位置；transform代表数据处理方式使用Totensor表示直接转换为张量（高维数组）；doenload设置为True表示root里有数据就用没有就下载到root\n",
    "\n",
    "#打印出张量大小\n",
    "len(train_data)\n",
    "len(test_data)\n"
   ]
  },
  {
   "cell_type": "markdown",
   "id": "7cd7afe0-640f-40f3-bd15-d1e4f9918f93",
   "metadata": {},
   "source": [
    "数据很多，所有采用批处理方式，就是从数据集种每次取一小部分进行训练"
   ]
  },
  {
   "cell_type": "code",
   "execution_count": 4,
   "id": "e747f504-620d-4abe-be44-811f5c721833",
   "metadata": {},
   "outputs": [],
   "source": [
    "#数据批处理\n",
    "batch_size=100\n",
    "train_loader=torch.utils.data.DataLoader(dataset=train_data,batch_size=batch_size,shuffle=True)\n",
    "test_loader=torch.utils.data.DataLoader(dataset=test_data,batch_size=batch_size,shuffle=False)\n",
    "#shuffle表示打乱数据"
   ]
  },
  {
   "cell_type": "markdown",
   "id": "6586cf7a-8064-4a08-bcb5-6a6cc7dcd60c",
   "metadata": {},
   "source": [
    "**dataset是负责管理数据，dataloader负责批量获取数据**"
   ]
  },
  {
   "cell_type": "code",
   "execution_count": 6,
   "id": "106c89e0-1978-40bd-a964-f3c9c54db524",
   "metadata": {},
   "outputs": [],
   "source": [
    "#定义MLP网络继承nn.Module\n",
    "class MLP(nn.Module):\n",
    "    #初始化方法\n",
    "    #input_size输入数据的维度 即图片的大小28*28\n",
    "    #hidden_size隐藏层的大小  \n",
    "    #num_classes输出类别的数目 10\n",
    "    def __init__(self,input_size,hidden_size,num_classes):\n",
    "        #调用父类的初始化方法\n",
    "        super(MLP,self).__init__()\n",
    "        #定义第一个全连接层\n",
    "        self.fc1=nn.Linear(input_size,hidden_size)\n",
    "        #定义激活函数\n",
    "        self.relu=nn.ReLU()\n",
    "        #定义第二个全连接层\n",
    "        self.fc2=nn.Linear(hidden_size,hidden_size)\n",
    "        #定义第三个全连接层\n",
    "        self.fc3=nn.Linear(hidden_size,num_classes)\n",
    "\n",
    "    #定义forward函数\n",
    "    #x输入的数据\n",
    "    def forward(self,x):\n",
    "        #第一层运算\n",
    "        out=self.fc1(x)\n",
    "        out=self.relu(out)\n",
    "        #将上一步结果送入\n",
    "        out=self.fc2(out)\n",
    "        out=self.relu(out)\n",
    "        out=self.fc3(out)\n",
    "        return out"
   ]
  },
  {
   "cell_type": "code",
   "execution_count": 7,
   "id": "d989a96e-3492-40b1-9de7-3cbcf890b074",
   "metadata": {},
   "outputs": [],
   "source": [
    "#定义模型\n",
    "input_size=28*28\n",
    "hidden_size=512\n",
    "num_classes=10\n",
    "model=MLP(input_size,hidden_size,num_classes)\n",
    "\n",
    "#定义损失函数和优化器\n",
    "criterion=nn.CrossEntropyLoss() #交叉熵损失函数\n",
    "learning_rate=0.001\n",
    "optimizer=optim.Adam(model.parameters(),lr=learning_rate)"
   ]
  },
  {
   "cell_type": "code",
   "execution_count": 8,
   "id": "db15a34d-55a0-4ce8-92d3-fcb8f11d6aa8",
   "metadata": {},
   "outputs": [
    {
     "name": "stdout",
     "output_type": "stream",
     "text": [
      "Epoch [1/10], Step [300/600], Loss: 0.1298\n",
      "Epoch [1/10], Step [600/600], Loss: 0.1854\n",
      "Epoch [2/10], Step [300/600], Loss: 0.1410\n",
      "Epoch [2/10], Step [600/600], Loss: 0.0491\n",
      "Epoch [3/10], Step [300/600], Loss: 0.0881\n",
      "Epoch [3/10], Step [600/600], Loss: 0.0471\n",
      "Epoch [4/10], Step [300/600], Loss: 0.0620\n",
      "Epoch [4/10], Step [600/600], Loss: 0.0525\n",
      "Epoch [5/10], Step [300/600], Loss: 0.0059\n",
      "Epoch [5/10], Step [600/600], Loss: 0.0188\n",
      "Epoch [6/10], Step [300/600], Loss: 0.0061\n",
      "Epoch [6/10], Step [600/600], Loss: 0.0197\n",
      "Epoch [7/10], Step [300/600], Loss: 0.0175\n",
      "Epoch [7/10], Step [600/600], Loss: 0.0266\n",
      "Epoch [8/10], Step [300/600], Loss: 0.0519\n",
      "Epoch [8/10], Step [600/600], Loss: 0.0085\n",
      "Epoch [9/10], Step [300/600], Loss: 0.0054\n",
      "Epoch [9/10], Step [600/600], Loss: 0.0013\n",
      "Epoch [10/10], Step [300/600], Loss: 0.0074\n",
      "Epoch [10/10], Step [600/600], Loss: 0.0283\n"
     ]
    }
   ],
   "source": [
    "#模型训练\n",
    "num_epochs=10 #训练轮数,十次训练每次都是batch_size\n",
    "for epoch in range(num_epochs):\n",
    "    for i,(image,labels) in enumerate(train_loader):\n",
    "        image=image.reshape(-1,28*28)\n",
    "        outputs=model(image)\n",
    "        loss=criterion(outputs,labels)\n",
    "        optimizer.zero_grad() #梯度清0\n",
    "        loss.backward() #反向传播\n",
    "        optimizer.step() #更新参数\n",
    "\n",
    "        if (i+1)%300==0:\n",
    "            print(f'Epoch [{epoch+1}/{num_epochs}], Step [{i+1}/{len(train_loader)}], Loss: {loss.item():.4f}' )\n",
    "        \n",
    "        "
   ]
  },
  {
   "cell_type": "code",
   "execution_count": 9,
   "id": "055916c6-605a-4ee8-a54a-cbfb30de82de",
   "metadata": {},
   "outputs": [
    {
     "name": "stdout",
     "output_type": "stream",
     "text": [
      "正确率： 98.1 %\n"
     ]
    }
   ],
   "source": [
    "#测试网络\n",
    "with torch.no_grad(): #表示测试过程不用pytorch计算梯度\n",
    "    correct=0\n",
    "    total=0\n",
    "    for images,labels in test_loader:\n",
    "        images=images.reshape(-1,28*28)\n",
    "        outputs=model(images)\n",
    "        _,predicted=torch.max(outputs.data,1) #max是取最大值的索引\n",
    "        total+=labels.size(0)\n",
    "        correct+=(predicted==labels).sum().item()\n",
    "    print(f'正确率： {100*correct/total} %')"
   ]
  },
  {
   "cell_type": "code",
   "execution_count": 10,
   "id": "5caa2a6f-ebb4-40f2-9d52-1f1e53309c9c",
   "metadata": {},
   "outputs": [],
   "source": [
    "#保存网络\n",
    "torch.save(model,\"mnist_mlp_model.pkl\")"
   ]
  },
  {
   "cell_type": "code",
   "execution_count": null,
   "id": "7e06dff8-dcc7-4ea7-a248-61ea37240662",
   "metadata": {},
   "outputs": [],
   "source": []
  }
 ],
 "metadata": {
  "kernelspec": {
   "display_name": "Python 3 (ipykernel)",
   "language": "python",
   "name": "python3"
  },
  "language_info": {
   "codemirror_mode": {
    "name": "ipython",
    "version": 3
   },
   "file_extension": ".py",
   "mimetype": "text/x-python",
   "name": "python",
   "nbconvert_exporter": "python",
   "pygments_lexer": "ipython3",
   "version": "3.12.3"
  }
 },
 "nbformat": 4,
 "nbformat_minor": 5
}
