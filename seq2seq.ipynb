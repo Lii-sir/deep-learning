{
 "cells": [
  {
   "cell_type": "markdown",
   "metadata": {},
   "source": [
    "CNN RNN等等无法解决输入输出序列长度不等的问题，编码器-解码器可以解决此问题。\n",
    "编码器-解码器作为高层次的设计架构，其并不与任何的具体的神经网络架构绑定。\n",
    "\n",
    "编码器-解码器架构是一个通用的设计架构，用于解决序列到序列（sequence-to-sequence）问题，其中输入序列和输出序列的长度可能不同。\n",
    "序列长度的得出，可以简单理解为利用最大似然估计，最大化输出序列基于输入序列的条件概率。\n",
    "\n",
    "在编码器-解码器架构中，编码器是一个神经网络，它将输入序列转换为一个固定维度的向量，这个向量被称为编码器输出。然后，这个编码器输出被传递给解码器，解码器根据编码器输出和目标序列生成预测序列。以机器翻译为例：编码器依次处理源序列的每个词，最终得到语义向量c（上下文变量），解码器以句子开头为输入，根据c和句子开头生成第一个词，然后根据c和第一个词生成第二个词，以此类推，直到生成句子结尾。\n"
   ]
  },
  {
   "cell_type": "code",
   "execution_count": null,
   "metadata": {},
   "outputs": [],
   "source": [
    "#以RNN作为基础构建Encoder Decoder\n",
    "#这一单元格只是一个简单示例，之后会重新定义Encoder Decoder\n",
    "import torch\n",
    "import torch.nn as nn\n",
    "\n",
    "#编码器\n",
    "class Encoder(nn.Module):\n",
    "    def __init__(self,input_size,hidden_size,num_layers):\n",
    "        super(Encoder,self).__init__()\n",
    "        self.rnn=nn.RNN(input_size,hidden_size,num_layers)\n",
    "\n",
    "    def forward(self,x,hidden):\n",
    "        x,hidden=self.rnn(x,hidden) #这里的hidden相当于之前的state\n",
    "        return hidden \n",
    "\n",
    "#解码器\n",
    "class Decoder(nn.Module):\n",
    "    def __init__(self,output_size,hidden_size,num_layers):\n",
    "        super(Decoder,self).__init__()\n",
    "        self.rnn=nn.RNN(output_size,hidden_size,num_layers)\n",
    "        self.linear=nn.Linear(hidden_size,output_size)\n",
    "    \n",
    "    def forward(self,x,hidden):\n",
    "        x,state=self.rnn(x,hidden)\n",
    "        x=self.linear(x)\n",
    "        return x,state\n",
    "\n",
    "#seq2seq\n",
    "class seq2seq(nn.Module):\n",
    "    def __init__(self,encoder,decoder):\n",
    "        super().__init__()\n",
    "        self.encoder=encoder\n",
    "        self.decoder=decoder\n",
    "\n",
    "    def forward(self,encoder_inputs,decoder_inputs):\n",
    "        return self.decoder(decoder_inputs,self.encoder(encoder_inputs))\n",
    "        #encoder_inputs是编码器的输入，decoder_inputs是解码器的输入"
   ]
  },
  {
   "cell_type": "code",
   "execution_count": 40,
   "metadata": {},
   "outputs": [],
   "source": [
    "#假设数据集 soundmark是26个英文字母的读音，alphabet是26个英文字母\n",
    "#目标是根据读音序列生成字母序列\n",
    "soundmark = [\n",
    "    'eɪ', 'biː', '/siː/', '/diː/', '/iː/', '/ɛf/', '/dʒiː/', '/eɪtʃ/', '/aɪ/', '/dʒeɪ/',\n",
    "    '/keɪ/', '/ɛl/', '/ɛm/', '/ɛn/', '/oʊ/', '/piː/', '/kjuː/', '/ɑːr/', '/ɛs/', '/tiː/',\n",
    "    '/juː/', '/viː/', '/ˈdʌbəl.juː/', '/ɛks/', '/waɪ/', '/zɛd/'\n",
    "]\n",
    "\n",
    "alphabet=['a','b','c','d','e','f','g','h','i','j','k','l','m','n','o','p','q','r','s','t','u','v','w','x','y','z']\n"
   ]
  },
  {
   "cell_type": "code",
   "execution_count": 41,
   "metadata": {},
   "outputs": [],
   "source": [
    "import random\n",
    "\n",
    "t=10000 #数据总条数\n",
    "r=0.9 #扰动项，生成正确序列的概率，可以让数据集包含一些错误数据\n",
    "\n",
    "seq_len=6\n",
    "src_tokens,tgt_tokens=[],[] #源序列，目标序列\n",
    "\n",
    "for i in range(t):\n",
    "    src,tgt=[],[]\n",
    "    for j in range(seq_len):\n",
    "        ind = random.randint(0,25) #随机生成整数\n",
    "        src.append(soundmark[ind])\n",
    "        if random.random()<r:\n",
    "            tgt.append(alphabet[ind])\n",
    "        else:\n",
    "            tgt.append(alphabet[random.randint(0,25)])\n",
    "    src_tokens.append(src)\n",
    "    tgt_tokens.append(tgt)\n"
   ]
  },
  {
   "cell_type": "code",
   "execution_count": 42,
   "metadata": {},
   "outputs": [],
   "source": [
    "from collections import Counter\n",
    "\n",
    "#构建匿名函数，for sublist in l :遍历外层列表l中的每一个子列表，for item in sublist：遍历每个子列表的每个元素\n",
    "flatten = lambda l: [item for sublist in l for item in sublist] #展平数组\n",
    "\n",
    "#构建词表\n",
    "class Vocab:\n",
    "    def __init__(self,tokens):\n",
    "        self.tokens=tokens #二维列表\n",
    "        self.token2index={'<bos>':0,'<eos>':1 } #两个特殊词元，分别代表开始和结束\n",
    "        #将词元按照频率排序后生成列表\n",
    "        self.token2index.update({\n",
    "            token:index+2\n",
    "            for index, (token,count) in enumerate(sorted(Counter(flatten(tokens)).items(),key=lambda x:x[1],reverse=True))\n",
    "        })\n",
    "        \n",
    "        self.index2token={index:token for token,index in self.token2index.items()}\n",
    "        \n",
    "    def __getitem__(self,query): #如果query是字符串或者整数，则返回query在字典中的索引，否则返回' '<\n",
    "        if isinstance(query,(str,int)): #如果query是字符串或者整数\n",
    "            if isinstance(query,str):\n",
    "                return self.token2index.get(query,0)  #如果query是字符串，则返回query在字典中的索引，否则返回0\n",
    "            elif isinstance(query,int):\n",
    "                return self.index2token.get(query,'<unk>') #如果query是整数，则返回query在字典中的索引，否则返回' '<\n",
    "        elif  isinstance(query,(list,tuple)):\n",
    "            return [self.__getitem__(item) for item in query]\n",
    "    \n",
    "    def __len__(self): #返回字典的长度\n",
    "        return len(self.index2token)   "
   ]
  },
  {
   "cell_type": "code",
   "execution_count": 43,
   "metadata": {},
   "outputs": [
    {
     "name": "stdout",
     "output_type": "stream",
     "text": [
      "<__main__.Vocab object at 0x000001A7A4BE72F0> <__main__.Vocab object at 0x000001A7A4BE5730>\n"
     ]
    }
   ],
   "source": [
    "from torch.utils.data import DataLoader,TensorDataset\n",
    "\n",
    "src_vocab,tgt_vocab=Vocab(src_tokens),Vocab(tgt_tokens) #构建词表\n",
    "print(src_vocab,tgt_vocab)\n",
    "#增加结尾标识\n",
    "src_data=torch.tensor([src_vocab[line+['<eos>']] for line in src_tokens])\n",
    "tgt_data=torch.tensor([tgt_vocab[line+['<eos>']] for line in tgt_tokens])\n",
    "\n",
    "train_size=int(0.8*len(src_data))\n",
    "test_size=int(0.2*len(src_data))\n",
    "batch_size=16\n",
    "\n",
    "train_loader=DataLoader(TensorDataset(src_data[:train_size],tgt_data[:train_size]),batch_size=batch_size)\n",
    "test_loader=DataLoader(TensorDataset(src_data[train_size:],tgt_data[train_size:]),batch_size=1)\n"
   ]
  },
  {
   "cell_type": "code",
   "execution_count": 44,
   "metadata": {},
   "outputs": [],
   "source": [
    "class Encoder_(nn.Module):\n",
    "    def __init__(self,vocab_size,ebd_size,hidden_size,num_layers):\n",
    "        super().__init__()\n",
    "        self.embedding=nn.Embedding(vocab_size,ebd_size) #将token转为向量 \n",
    "        self.rnn=nn.RNN(ebd_size,hidden_size,num_layers=num_layers)\n",
    "        \n",
    "    def forward(self,encoder_inputs):\n",
    "        #inputs: [batch_size,seq_len]-->[batch_size,seq_len,ebd_size]-->[seq_len,batch_size,ebd_size]\n",
    "        encoder_inputs=self.embedding(encoder_inputs).permute(1,0,2)\n",
    "        output,hidden=self.rnn(encoder_inputs)\n",
    "        \n",
    "        return hidden\n",
    "    \n",
    "#hidden的形状是[batch_size,num_layers,hidden_size]\n",
    "#最后时刻的最后一个隐层输出的隐状态就是上下文变量c\n",
    "\n",
    "class Decoder_(nn.Module):\n",
    "    def __init__(self,vocab_size,ebd_size,hidden_size,num_layers):\n",
    "        super().__init__()\n",
    "        self.embedding=nn.Embedding(vocab_size,ebd_size)\n",
    "        self.rnn=nn.RNN(ebd_size+hidden_size,hidden_size,num_layers=num_layers)\n",
    "        self.linear=nn.Linear(hidden_size,vocab_size)\n",
    "        \n",
    "    def forward(self,decoder_inputs,encoder_states):\n",
    "        '''decoder_inputs: [batch_size,seq_len]-->[batch_size,seq_len,ebd_size]-->[seq_len,batch_size,ebd_size]'''\n",
    "        decoder_inputs=self.embedding(decoder_inputs).permute(1,0,2)\n",
    "        context=encoder_states[-1]\n",
    "        context=context.repeat(decoder_inputs.size(0),1,1) #重复context的维度\n",
    "        output,hidden=self.rnn(torch.cat((decoder_inputs,context),-1),encoder_states)\n",
    "        #cat拼接iple张量，-1表示最后一个维度，即[batch_size,seq_len,ebd_size+hidden_size]\n",
    "        logits=self.linear(output) #logits: [seq_len,batch_size,vocab_size]\n",
    "        return logits,hidden \n",
    "        \n",
    "class seq2seq_(nn.Module):\n",
    "    def __init__(self,encoder,decoder):\n",
    "        super().__init__()\n",
    "        self.encoder=encoder\n",
    "        self.decoder=decoder\n",
    "        \n",
    "    def forward(self,encoder_inputs,decoder_inputs):\n",
    "        encoder_states=self.encoder(encoder_inputs)\n",
    "        return self.decoder(decoder_inputs,encoder_states) #返回decoder的输出和隐层状态"
   ]
  },
  {
   "cell_type": "code",
   "execution_count": 47,
   "metadata": {},
   "outputs": [
    {
     "name": "stderr",
     "output_type": "stream",
     "text": [
      "100%|██████████| 20/20 [01:01<00:00,  3.09s/it]\n"
     ]
    },
    {
     "data": {
      "image/png": "[encoded data removed]",
      "text/plain": [
       "<Figure size 640x480 with 1 Axes>"
      ]
     },
     "metadata": {},
     "output_type": "display_data"
    }
   ],
   "source": [
    "from tqdm import *\n",
    "import matplotlib.pyplot as plt\n",
    "\n",
    "lr=0.001\n",
    "num_epochs=20\n",
    "hidden_size=128\n",
    "\n",
    "encoder=Encoder_(len(src_vocab),len(src_vocab),hidden_size,num_layers=2)\n",
    "decoder=Decoder_(len(tgt_vocab),len(tgt_vocab),hidden_size,num_layers=2)\n",
    "model=seq2seq_(encoder,decoder)\n",
    "\n",
    "criterion=nn.CrossEntropyLoss(reduction='none')\n",
    "optimizer=torch.optim.Adam(model.parameters(),lr=lr)\n",
    "\n",
    "loss_history=[]\n",
    "model.train()\n",
    "for epoch in tqdm(range(num_epochs)):\n",
    "    for encoder_inputs,decoder_targets in train_loader:\n",
    "        encoder_inputs,decoder_targets = encoder_inputs,decoder_targets\n",
    "        #偏移一位作为decoder的输入\n",
    "        #decoder的输入的第一位是bos，最后一位是eos\n",
    "        bos_column=torch.tensor([tgt_vocab['<bos>']] * decoder_targets.shape[0]).reshape(-1,1)\n",
    "        decoder_inputs=torch.cat((bos_column,decoder_targets[:,:-1]),1) \n",
    "        pred,_=model(encoder_inputs,decoder_inputs) \n",
    "        loss=criterion(pred.permute(1,2,0),decoder_targets).mean()\n",
    "        \n",
    "        optimizer.zero_grad()\n",
    "        loss.backward()\n",
    "        optimizer.step()\n",
    "        loss_history.append(loss.item())\n",
    "\n",
    "plt.plot(loss_history,label='loss')\n",
    "plt.show()"
   ]
  },
  {
   "cell_type": "code",
   "execution_count": null,
   "metadata": {},
   "outputs": [],
   "source": []
  }
 ],
 "metadata": {
  "kernelspec": {
   "display_name": "base",
   "language": "python",
   "name": "python3"
  },
  "language_info": {
   "codemirror_mode": {
    "name": "ipython",
    "version": 3
   },
   "file_extension": ".py",
   "mimetype": "text/x-python",
   "name": "python",
   "nbconvert_exporter": "python",
   "pygments_lexer": "ipython3",
   "version": "3.12.3"
  }
 },
 "nbformat": 4,
 "nbformat_minor": 2
}
